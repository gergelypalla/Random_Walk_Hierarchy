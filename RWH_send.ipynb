{
 "cells": [
  {
   "cell_type": "code",
   "execution_count": 1,
   "metadata": {
    "collapsed": true
   },
   "outputs": [],
   "source": [
    "import math;"
   ]
  },
  {
   "cell_type": "code",
   "execution_count": 2,
   "metadata": {
    "collapsed": true
   },
   "outputs": [],
   "source": [
    "def RWH_hierarchy(input_links, is_weighted = True, alpha_parameter = 1.0, lambda_value = 4.0, \n",
    "                  precision = 0.0000001, max_num_rounds = 10000, silent = True, check_params = True):\n",
    "    \"\"\"Calculates the random walk hierarchy measure introduced in \n",
    "       http://dx.doi.org/10.1038/srep17994\n",
    "       Returns the RWH measure and the stationary distribution of the random walkers on the nodes, sorted\n",
    "       according to the density value from largest density to lowest. The results are returned in a \n",
    "       dictionary {'RWH': float, 'p_stat': [float,str]} or {'RWH': float, 'p_stat': [float,int]}, \n",
    "       depending on the node type in the input_links.\n",
    "       \n",
    "       The parameters:\n",
    "        -input_links: the link list of the network, [['source','target']] or [['source','target',weight]].\n",
    "        -is_weighted: if True, the input_links is assumed to be weighted, otherwise input_links is assumed\n",
    "                      to be unweighted.\n",
    "        -alpha_parameter: a generalised decay parameter, it is advised to stick to the default value 1.0\n",
    "        -lambda_value: the characteristic distance of the decaying random walk. It is advised to stick to\n",
    "                       the default value 4.0\n",
    "        -precision: the parameter controlling the precision of the stationarity of the walker density.\n",
    "        -max_num_rounds: the maximum number of allowed iterations during the calculation of the stationary\n",
    "                      walker density.\n",
    "        -silent: if False, the function prints various messages about the state of the calculation.\n",
    "        -chek_params: bool, if True, the types of the parameters are checked.\"\"\"\n",
    "    if check_params:\n",
    "        Type_check_RWH_hierarchy(alpha_parameter,lambda_value,precision,max_num_rounds,is_weighted,input_links);\n",
    "    f_value = math.exp(1.0/lambda_value)-1.0;\n",
    "    t_in_neighs = [];\n",
    "    t_out_neighs = [];\n",
    "    name_id_dict = {};\n",
    "    rev_dict = {};\n",
    "    Prepare_neigh_list_dicts(t_in_neighs,t_out_neighs,name_id_dict,rev_dict,is_weighted,input_links);\n",
    "    if not silent:\n",
    "        print('RWH_hierarchy: neig. lists prepared OK.');\n",
    "    T_matr = Prepare_T_matrix(t_in_neighs,t_out_neighs,alpha_parameter);\n",
    "    if not silent:\n",
    "        print('RWH_hierarchy: T matrix prepared OK.');\n",
    "    p_stat_vec = [1.0/len(t_out_neighs)]*len(t_out_neighs);\n",
    "    abs_diff = 10*precision;\n",
    "    num_rounds = 0;\n",
    "    if not silent:\n",
    "        print('RWH_hierarchy: Calculating the stationary distribution of the walkers...')\n",
    "    while(abs_diff > precision and num_rounds < max_num_rounds):\n",
    "        if not silent:\n",
    "            print(' iteration no. ',num_rounds);\n",
    "        new_p_stat_vec = [];\n",
    "        new_p_stat_vec.clear();\n",
    "        new_p_stat_vec = Mult_T_matr(T_matrix = T_matr, p_stat = p_stat_vec, f_parameter = f_value);\n",
    "        abs_diff = Compare_p_stats(new_p_stat_vec,p_stat_vec);\n",
    "        p_stat_vec.clear();\n",
    "        p_stat_vec = list(new_p_stat_vec);\n",
    "        num_rounds += 1;\n",
    "    if not silent:\n",
    "        print('RWH_hierarchy: stationary distribution converged.');\n",
    "    ordered_p_stat = Order_p_stat(p_stat_vec);\n",
    "    RWH_result = Calc_RWH_from_p_stat(p_stat_vec);\n",
    "    if not silent:\n",
    "        print('RWH_hierarchy: final result for RWH = ',RWH_result);\n",
    "    output_p = [];\n",
    "    for i in range(0,len(ordered_p_stat)):\n",
    "        output_p.append([ordered_p_stat[i][0],rev_dict[ordered_p_stat[i][1]]]);\n",
    "    return {'RWH': RWH_result,'p_stat': output_p};"
   ]
  },
  {
   "cell_type": "code",
   "execution_count": 3,
   "metadata": {
    "collapsed": true
   },
   "outputs": [],
   "source": [
    "def Type_check_RWH_hierarchy(alpha_parameter,lambda_value,precision,max_num_rounds,is_weighted,input_links):\n",
    "    if not isinstance(alpha_parameter,float):\n",
    "        raise TypeError('ERROR: Type_check_RWH_hierarchy: alpha_parameter must be a float.\\n');\n",
    "    if not isinstance(lambda_value,float):\n",
    "        raise TypeError('ERROR: Type_check_RWH_hierarchy: lambda_value must be a float.\\n');\n",
    "    if not isinstance(precision,float):\n",
    "        raise TypeError('ERROR: Type_check_RWH_hierarchy: precision must be a float.\\n');\n",
    "    if not isinstance(max_num_rounds,int):\n",
    "        raise TypeError('ERROR: Type_check_RWH_hierarchy: max_num_rouncs must be an int.\\n');\n",
    "    Type_check_input_links(is_weighted,input_links);"
   ]
  },
  {
   "cell_type": "code",
   "execution_count": 4,
   "metadata": {
    "collapsed": true
   },
   "outputs": [],
   "source": [
    "def Type_check_input_links(is_weighted,input_ls):\n",
    "    if not isinstance(input_ls,list):\n",
    "        raise TypeError('ERROR: Type_check_input_links: input_ls must be a list.\\n');\n",
    "    if len(input_ls) == 0:\n",
    "        raise TypeError('ERROR: Type_check_input_links: input_ls is empty.');\n",
    "    if not isinstance(is_weighted,bool):\n",
    "        raise TypeError('ERROR: Type_check_input_links: is_weighted must be a bool.\\n');\n",
    "    if is_weighted:\n",
    "        for i in range(0,len(input_ls)):\n",
    "            orig_len = len(input_ls[i]);\n",
    "            if orig_len < 3 :\n",
    "                raise TypeError('ERROR: Type_check_input_links: entry '+str(i)+\n",
    "                                ' in input_ls has length '+str(orig_len)+' instead of 3 or larger.\\n');\n",
    "            or_src = input_ls[i][0];\n",
    "            or_trg = input_ls[i][1];\n",
    "            or_wei = input_ls[i][2];\n",
    "            if not (isinstance(or_src,int) or isinstance(or_src,str)):\n",
    "                raise TypeError('ERROR: Type_check_input_links: source node type not int or str in entry '+str(i)+\n",
    "                                ' in input_ls.\\n');\n",
    "            if not (isinstance(or_trg,int) or isinstance(or_trg,str)):\n",
    "                raise TypeError('ERROR: Type_check_input_links: target node type not int or str in entry '+str(i)+\n",
    "                               ' in input_ls.\\n');  \n",
    "            if not (isinstance(or_wei,float) or isinstance(or_wei,int)):\n",
    "                raise TypeError('ERROR: Type_check_input_links: link weight type not float or int in entry '+str(i)+\n",
    "                               ' in input_ls.\\n');\n",
    "    else:\n",
    "        for i in range(0,len(input_ls)):\n",
    "            orig_len = len(input_ls[i]);\n",
    "            if orig_len < 2 :\n",
    "                raise TypeError('ERROR: Type_check_input_links: entry '+str(i)+\n",
    "                                ' in input_ls has length '+str(orig_len)+' instead of 2 or larger.\\n');\n",
    "            or_src = input_ls[i][0];\n",
    "            or_trg = input_ls[i][1];\n",
    "            if not (isinstance(or_src,int) or isinstance(or_src,str)):\n",
    "                raise TypeError('ERROR: Type_check_input_links: source node type not int or str in entry '+str(i)+\n",
    "                                ' in input_ls.\\n');\n",
    "            if not (isinstance(or_trg,int) or isinstance(or_trg,str)):\n",
    "                raise TypeError('ERROR: Type_check_input_links: target node type not int or str in entry '+str(i)+\n",
    "                               ' in input_ls.\\n');  "
   ]
  },
  {
   "cell_type": "code",
   "execution_count": 5,
   "metadata": {
    "collapsed": true
   },
   "outputs": [],
   "source": [
    "def Prepare_neigh_list_dicts(in_neighs,out_neighs,name_id_dict,id_rev_dict,is_weighted,input_ls):\n",
    "    \"\"\"Prepares the in-neighbour and out-neighbour lists for the nodes. \n",
    "       in_neighs and out_neighs: N long list of dicts, [{neigh_id,weight}], \n",
    "       name_id_dict: {original_node_name,id},\n",
    "       id_rev_dict: {id,original_node_name},\n",
    "       is_weighted: bool, if True, input_ls is assumed to be weighted,\n",
    "       input_ls: the input, assumed to be a list of links [['source','target']] or \n",
    "                    [['source','target',weight]] if the links are weighted.\"\"\"\n",
    "    in_neighs.clear();\n",
    "    out_neighs.clear();\n",
    "    name_id_dict.clear();\n",
    "    id_rev_dict.clear();\n",
    "    for i in range(len(input_ls)):\n",
    "        source = input_ls[i][0];\n",
    "        target = input_ls[i][1];\n",
    "        weight = 1.0;\n",
    "        if is_weighted:\n",
    "            weight = input_ls[i][2];\n",
    "        if not (source in name_id_dict):\n",
    "            source_id = len(name_id_dict);\n",
    "            name_id_dict[source] = source_id;\n",
    "            id_rev_dict[source_id] = source;\n",
    "        if not (target in name_id_dict):\n",
    "            target_id = len(name_id_dict);\n",
    "            name_id_dict[target] = target_id;\n",
    "            id_rev_dict[target_id] = target;\n",
    "        s_id = name_id_dict[source];\n",
    "        t_id = name_id_dict[target];\n",
    "        if s_id < len(out_neighs):\n",
    "            out_neighs[s_id][t_id] = weight;\n",
    "        else:\n",
    "            s_ldict = {};\n",
    "            s_ldict.clear();\n",
    "            s_ldict[t_id] = weight;\n",
    "            out_neighs.append(s_ldict);\n",
    "        if s_id >= len(in_neighs):\n",
    "            s_ldict = {};\n",
    "            s_ldict.clear();\n",
    "            in_neighs.append(s_ldict);\n",
    "        if t_id < len(in_neighs):\n",
    "            in_neighs[t_id][s_id] = weight;\n",
    "        else:\n",
    "            t_ldict = {};\n",
    "            t_ldict.clear();\n",
    "            t_ldict[s_id] = weight;\n",
    "            in_neighs.append(t_ldict);\n",
    "        if t_id >= len(out_neighs):\n",
    "            t_ldict = {};\n",
    "            t_ldict.clear();\n",
    "            out_neighs.append(t_ldict);"
   ]
  },
  {
   "cell_type": "code",
   "execution_count": 6,
   "metadata": {
    "collapsed": true
   },
   "outputs": [],
   "source": [
    "def Prepare_T_matrix(in_neighs,out_neighs,alpha_param):\n",
    "    T_matrix = [];\n",
    "    T_matrix.clear();\n",
    "    T_column_sum = [0]*len(out_neighs);\n",
    "    for i in range(0,len(out_neighs)):\n",
    "        row = {};\n",
    "        row.clear();\n",
    "        sum_i_out = 0;\n",
    "        for out_n_ind in out_neighs[i]:\n",
    "            sum_i_out += out_neighs[i][out_n_ind];\n",
    "        for out_n_j in out_neighs[i]:\n",
    "            link_weight = out_neighs[i][out_n_j];\n",
    "            sum_j_in = 0;\n",
    "            for in_j in in_neighs[out_n_j]:\n",
    "                sum_j_in += in_neighs[out_n_j][in_j];\n",
    "            row[out_n_j] = link_weight/sum_j_in*((link_weight/sum_i_out)**alpha_param);\n",
    "            T_column_sum[out_n_j] += row[out_n_j];\n",
    "        T_matrix.append(row);\n",
    "    for j in range(0,len(T_column_sum)):\n",
    "        if T_column_sum[j] < 1.0:\n",
    "            T_matrix[j][j] = 1.0 - T_column_sum[j];\n",
    "    return T_matrix;"
   ]
  },
  {
   "cell_type": "code",
   "execution_count": 7,
   "metadata": {
    "collapsed": true
   },
   "outputs": [],
   "source": [
    "def Mult_T_matr(T_matrix,p_stat,f_parameter):\n",
    "    new_vec = list();\n",
    "    new_vec.clear();\n",
    "    new_rand_walker_ins = f_parameter/float(len(p_stat));\n",
    "    for i in range (0,len(T_matrix)):\n",
    "        if len(T_matrix[i]) > 0 :\n",
    "            T_i_sum = 0;\n",
    "            for T_ij in T_matrix[i]:\n",
    "                T_i_sum += T_matrix[i][T_ij]*(p_stat[T_ij]+new_rand_walker_ins);\n",
    "            new_vec.append(T_i_sum);\n",
    "        else :\n",
    "            new_vec.append(0.0);\n",
    "    sum_vec = sum(new_vec);\n",
    "    for i in range(0,len(new_vec)):\n",
    "        new_vec[i] /= sum_vec;\n",
    "    return new_vec;"
   ]
  },
  {
   "cell_type": "code",
   "execution_count": 8,
   "metadata": {
    "collapsed": true
   },
   "outputs": [],
   "source": [
    "def Compare_p_stats(new_p_stat,old_p_stat):\n",
    "    sum_diff = 0;\n",
    "    for i in range(0,len(new_p_stat)):\n",
    "        sum_diff += math.fabs(new_p_stat[i]-old_p_stat[i]);\n",
    "    return sum_diff;"
   ]
  },
  {
   "cell_type": "code",
   "execution_count": 9,
   "metadata": {
    "collapsed": true
   },
   "outputs": [],
   "source": [
    "def Order_p_stat(p_stat_vec):\n",
    "    p_dict = {};\n",
    "    p_dict.clear();\n",
    "    for i in range(0,len(p_stat_vec)):\n",
    "        p_dict[p_stat_vec[i]] = i;\n",
    "    return sorted(p_dict.items(), key = lambda x:x[0], reverse = True);"
   ]
  },
  {
   "cell_type": "code",
   "execution_count": 10,
   "metadata": {
    "collapsed": true
   },
   "outputs": [],
   "source": [
    "def Calc_RWH_from_p_stat(p_stat_result):\n",
    "    sum = 0.0;\n",
    "    for i in range(0,len(p_stat_result)):\n",
    "        sum += p_stat_result[i]*p_stat_result[i];\n",
    "    return math.sqrt(sum*len(p_stat_result)-1.0);"
   ]
  }
 ],
 "metadata": {
  "kernelspec": {
   "display_name": "Python 3",
   "language": "python",
   "name": "python3"
  },
  "language_info": {
   "codemirror_mode": {
    "name": "ipython",
    "version": 3
   },
   "file_extension": ".py",
   "mimetype": "text/x-python",
   "name": "python",
   "nbconvert_exporter": "python",
   "pygments_lexer": "ipython3",
   "version": "3.5.2"
  }
 },
 "nbformat": 4,
 "nbformat_minor": 2
}
